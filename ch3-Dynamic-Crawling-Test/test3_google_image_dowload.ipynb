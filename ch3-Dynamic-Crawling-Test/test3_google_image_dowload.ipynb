{
 "cells": [
  {
   "cell_type": "code",
   "id": "initial_id",
   "metadata": {
    "collapsed": true,
    "ExecuteTime": {
     "end_time": "2025-02-21T05:56:44.053376Z",
     "start_time": "2025-02-21T05:56:21.377812Z"
    }
   },
   "source": [
    "from selenium import webdriver\n",
    "from selenium.webdriver.common.by import By\n",
    "import time\n",
    "import urllib.request\n",
    "\n",
    "\n",
    "query = '맛조개'\n",
    "driver = webdriver.Chrome()\n",
    "driver.get(f'https://www.google.com/imghp')\n",
    "# 구글 이미지 검색창 이름이 : q\n",
    "search_bar = driver.find_element(By.NAME,\"q\")\n",
    "# 검색 키워드를 춘식이 설정\n",
    "search_bar.send_keys(query)\n",
    "# 전달.\n",
    "search_bar.submit()\n",
    "# 잠시 대기 시간 ms 1000ms = 1초\n",
    "PAUSE_TIME = 2\n",
    "# 현재 문서의 스크롤의 높이를 표시.\n",
    "last_hegiht = driver.execute_script(\"return window.scrollY\")\n",
    "print(f\"처음 last_hegiht : {last_hegiht}\")\n",
    "new_height = 0\n",
    "\n",
    "interval = 2\n",
    "prev_height = driver.execute_script(\"return document.body.scrollHeight\")\n",
    "\n",
    "while True:\n",
    "    #화면 가장 아래로 스크롤 내리기\n",
    "    driver.execute_script(\"window.scrollTo(0, document.body.scrollHeight)\")\n",
    "    time.sleep(interval)\n",
    "\n",
    "    curr_height = driver.execute_script(\"return document.body.scrollHeight\")\n",
    "    if curr_height == prev_height:\n",
    "        break\n",
    "\n",
    "    prev_height = curr_height\n",
    "\n",
    "img_elements = driver.find_elements(By.CSS_SELECTOR,\".rg_i\")\n",
    "# 다시 이미지만 추출해서 담음 임시 리스트\n",
    "# print(f\"img_elements ================================ : {img_elements}\")\n",
    "\n",
    "imgs = []\n",
    "# enumerate 함수 이용하면 해당 인덱스도 같이 추출 가능.\n",
    "for idx, img in enumerate(img_elements) :\n",
    "    print(f\"{query} : {idx+1}/{len(img_elements)} proceed...\")\n",
    "    try :\n",
    "        # 이미지 클릭\n",
    "        img.click()\n",
    "        # 잠시 대기\n",
    "        time.sleep(PAUSE_TIME)\n",
    "        # 이부분에서 에러나면, 직접 개발자 도구 활용해서 XPATH 추출한 뒤에 변경\n",
    "\n",
    "        img_src = img.get_attribute('src')\n",
    "        img_alt = img.get_attribute('alt')\n",
    "        imgs.append({\n",
    "            'alt' : img_alt,\n",
    "            'src' : img_src\n",
    "        })\n",
    "\n",
    "    except :\n",
    "        print(f'err in {idx}')\n",
    "        pass\n",
    "driver.close()\n",
    "save_path = f'D:\\crawl-501\\{query}'\n",
    "import os\n",
    "if not os.path.exists(save_path):\n",
    "    os.mkdir(save_path)\n",
    "total_N = len(imgs)\n",
    "for idx, one in enumerate(imgs):\n",
    "    src = one['src']\n",
    "    alt = one['alt']\n",
    "    urllib.request.urlretrieve(src,  f\"{save_path}\\{query}_{idx}.png\")\n",
    "    print(idx, alt)\n",
    "print('done')"
   ],
   "outputs": [
    {
     "name": "stdout",
     "output_type": "stream",
     "text": [
      "처음 last_hegiht : 0\n",
      "done\n"
     ]
    }
   ],
   "execution_count": 2
  },
  {
   "metadata": {},
   "cell_type": "code",
   "outputs": [],
   "execution_count": null,
   "source": "",
   "id": "8a14f249ecf3886f"
  }
 ],
 "metadata": {
  "kernelspec": {
   "display_name": "Python 3",
   "language": "python",
   "name": "python3"
  },
  "language_info": {
   "codemirror_mode": {
    "name": "ipython",
    "version": 2
   },
   "file_extension": ".py",
   "mimetype": "text/x-python",
   "name": "python",
   "nbconvert_exporter": "python",
   "pygments_lexer": "ipython2",
   "version": "2.7.6"
  }
 },
 "nbformat": 4,
 "nbformat_minor": 5
}
