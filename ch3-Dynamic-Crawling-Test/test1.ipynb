{
 "cells": [
  {
   "cell_type": "code",
   "id": "initial_id",
   "metadata": {
    "collapsed": true,
    "ExecuteTime": {
     "end_time": "2025-02-21T00:25:50.562803Z",
     "start_time": "2025-02-21T00:25:43.729569Z"
    }
   },
   "source": [
    "# selenium 설치,\n",
    "# pip install selenium\n",
    "\n",
    "# 웹 드라이버 실행, (Chrome)\n",
    "from selenium import webdriver\n",
    "# Chrome 드라이버 실행.\n",
    "driver = webdriver.Chrome()\n",
    "# 특정 URL 열기. 구글\n",
    "driver.get(\"http://www.google.com\")\n",
    "driver.quit()\n",
    "\n"
   ],
   "outputs": [],
   "execution_count": 1
  },
  {
   "metadata": {
    "ExecuteTime": {
     "end_time": "2025-02-21T00:34:55.888264Z",
     "start_time": "2025-02-21T00:34:52.888292Z"
    }
   },
   "cell_type": "code",
   "source": [
    "# 2 웹페이지 요소 찾기 (find_element, find_elements)\n",
    "from selenium import webdriver\n",
    "\n",
    "driver = webdriver.Chrome()\n",
    "driver.get(\"http://www.google.com\")\n",
    "#요소 찾기 (name 속성 사용)\n",
    "search_box = driver.find_element(\"name\",\"q\")\n",
    "print(search_box)\n",
    "\n",
    "#요소 여러 개 찾기 (class 속성 사용)\n",
    "links = driver.find_elements(\"tag name\", \"a\")\n",
    "print(len(links))\n",
    "# driver.quit()"
   ],
   "id": "8fe17107ecd9b8d1",
   "outputs": [
    {
     "name": "stdout",
     "output_type": "stream",
     "text": [
      "<selenium.webdriver.remote.webelement.WebElement (session=\"e471b98bddffb8b5d92812916b619221\", element=\"f.F3AC9D5D42FC6A9A3AC9AC1586DF3DE7.d.2D4CDC586B0F14D29CE0F141E75ABEDE.e.2\")>\n",
      "16\n"
     ]
    }
   ],
   "execution_count": 4
  },
  {
   "metadata": {
    "ExecuteTime": {
     "end_time": "2025-02-21T00:41:07.982027Z",
     "start_time": "2025-02-21T00:40:57.879128Z"
    }
   },
   "cell_type": "code",
   "source": [
    "# 3 웹 페이지 로딩 대기( implicitly_wait, time.sleep)\n",
    "# 웹페이지가 완전히 로드될 때까지 기다리는 기능,\n",
    "from selenium import webdriver\n",
    "import time\n",
    "\n",
    "driver = webdriver.Chrome()\n",
    "driver.get(\"http://www.google.com\")\n",
    "\n",
    "#암묵적 대기, (최대 10초까지 대기, 실행이 되면, 즉시 실행)\n",
    "# 전역처럼, 한번만 실행함.\n",
    "# driver.implicitly_wait(10)\n",
    "\n",
    "# 명시적 대기 (5초), 무조건 5초 기다림. , 매번 코드를 작성해야함.\n",
    "time.sleep(5)\n",
    "driver.quit()\n"
   ],
   "id": "c2bd60c87d7bf362",
   "outputs": [],
   "execution_count": 6
  },
  {
   "metadata": {
    "ExecuteTime": {
     "end_time": "2025-02-21T00:45:21.487737Z",
     "start_time": "2025-02-21T00:45:02.853881Z"
    }
   },
   "cell_type": "code",
   "source": [
    "# 4 특정 요소 클릭 (click)\n",
    "from selenium import webdriver\n",
    "import time\n",
    "\n",
    "driver = webdriver.Chrome()\n",
    "driver.get(\"http://www.google.com\")\n",
    "\n",
    "time.sleep(5)\n",
    "\n",
    "# 구글 , 이메일 버튼 클릭, Gmail\n",
    "button = driver.find_element(\"link text\", \"Gmail\")\n",
    "button.click()\n",
    "time.sleep(5)\n",
    "driver.quit()\n"
   ],
   "id": "923db8619ec45a6",
   "outputs": [],
   "execution_count": 8
  },
  {
   "metadata": {
    "ExecuteTime": {
     "end_time": "2025-02-21T00:49:42.582302Z",
     "start_time": "2025-02-21T00:49:31.020036Z"
    }
   },
   "cell_type": "code",
   "source": [
    "#5 키보드 입력(send_keys())\n",
    "from selenium import webdriver\n",
    "import time\n",
    "from selenium.webdriver.common.keys import Keys\n",
    "\n",
    "driver = webdriver.Chrome()\n",
    "driver.get(\"http://www.google.com\")\n",
    "\n",
    "driver.implicitly_wait(10)\n",
    "\n",
    "search_box = driver.find_element(\"name\",\"q\")\n",
    "search_box.send_keys(\"날씨\")\n",
    "search_box.send_keys(Keys.RETURN)\n",
    "time.sleep(5)\n",
    "driver.quit()"
   ],
   "id": "3239b770d8554d3c",
   "outputs": [],
   "execution_count": 2
  },
  {
   "metadata": {
    "ExecuteTime": {
     "end_time": "2025-02-21T01:04:42.811191Z",
     "start_time": "2025-02-21T01:04:30.985104Z"
    }
   },
   "cell_type": "code",
   "source": [
    "# 6 자바스크립트 실행 (excute_script())\n",
    "from selenium import webdriver\n",
    "import time\n",
    "from selenium.webdriver.common.keys import Keys\n",
    "\n",
    "driver = webdriver.Chrome()\n",
    "driver.get(\"https://news.google.com\")\n",
    "time.sleep(3)\n",
    "#페이지 맨 아래로 스크롤\n",
    "driver.execute_script(\"window.scrollTo(0, document.body.scrollHeight);\")\n",
    "time.sleep(3)\n",
    "driver.quit()"
   ],
   "id": "69f5e83f70ef7a76",
   "outputs": [],
   "execution_count": 4
  },
  {
   "metadata": {
    "ExecuteTime": {
     "end_time": "2025-02-21T01:08:20.017684Z",
     "start_time": "2025-02-21T01:08:05.563092Z"
    }
   },
   "cell_type": "code",
   "source": [
    "# 7 새창 열기 및 핸들 전환 (window_handles)\n",
    "from selenium import webdriver\n",
    "import time\n",
    "from selenium.webdriver.common.keys import Keys\n",
    "\n",
    "driver = webdriver.Chrome()\n",
    "driver.get(\"https://www.google.com\")\n",
    "time.sleep(3)\n",
    "\n",
    "# 새창 열기,\n",
    "driver.execute_script(\"window.open('https://naver.com');\")\n",
    "time.sleep(3)\n",
    "\n",
    "# 창 핸들 가져오기.\n",
    "windows = driver.window_handles\n",
    "driver.switch_to.window(windows[0])\n",
    "\n",
    "time.sleep(3)\n",
    "driver.quit()"
   ],
   "id": "1f39f56d913c3334",
   "outputs": [],
   "execution_count": 6
  },
  {
   "metadata": {},
   "cell_type": "code",
   "outputs": [],
   "execution_count": null,
   "source": [
    "# 8 프레임 전환( switch_to.frame() )\n",
    "from selenium import webdriver\n",
    "import time\n",
    "from selenium.webdriver.common.keys import Keys\n",
    "\n",
    "driver = webdriver.Chrome()\n",
    "\n",
    "# iframe 테스트 사이트, w3schools\n",
    "driver.get(\"https://www.w3schools.com/html/html_iframe.asp\")\n",
    "time.sleep(3)\n",
    "\n",
    "#페이지 전환, iframe 안의 콘텐츠 로딩.\n",
    "iframe = driver.find_element(\"css selector\", \"iframe[src*='default.asp']\")\n",
    "driver.switch_to.frame(iframe)\n",
    "\n",
    "# 프레임 내 요소 찾기,\n",
    "element = driver.find_element(\"css selector\", \"h1\")\n",
    "print(element.text)\n",
    "time.sleep(3)\n",
    "driver.quit()"
   ],
   "id": "5f772706c69f440c"
  }
 ],
 "metadata": {
  "kernelspec": {
   "display_name": "Python 3",
   "language": "python",
   "name": "python3"
  },
  "language_info": {
   "codemirror_mode": {
    "name": "ipython",
    "version": 2
   },
   "file_extension": ".py",
   "mimetype": "text/x-python",
   "name": "python",
   "nbconvert_exporter": "python",
   "pygments_lexer": "ipython2",
   "version": "2.7.6"
  }
 },
 "nbformat": 4,
 "nbformat_minor": 5
}
