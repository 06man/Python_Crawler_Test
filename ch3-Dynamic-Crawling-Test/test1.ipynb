{
 "cells": [
  {
   "cell_type": "code",
   "id": "initial_id",
   "metadata": {
    "collapsed": true,
    "ExecuteTime": {
     "end_time": "2025-02-21T00:25:50.562803Z",
     "start_time": "2025-02-21T00:25:43.729569Z"
    }
   },
   "source": [
    "# selenium 설치,\n",
    "# pip install selenium\n",
    "\n",
    "# 웹 드라이버 실행, (Chrome)\n",
    "from selenium import webdriver\n",
    "# Chrome 드라이버 실행.\n",
    "driver = webdriver.Chrome()\n",
    "# 특정 URL 열기. 구글\n",
    "driver.get(\"http://www.google.com\")\n",
    "driver.quit()\n",
    "\n"
   ],
   "outputs": [],
   "execution_count": 1
  },
  {
   "metadata": {},
   "cell_type": "code",
   "outputs": [],
   "execution_count": null,
   "source": [
    "# 2 웹페이지 요소 찾기 (find_element, find_elements)\n",
    "from selenium import webdriver\n",
    "\n",
    "driver = webdriver.Chrome()\n",
    "driver.get(\"http://www.google.com\")\n",
    "#요소 찾기\n",
    "search_box = driver.find_element(\"name\",\"q\")\n",
    "print(search_box)"
   ],
   "id": "8fe17107ecd9b8d1"
  }
 ],
 "metadata": {
  "kernelspec": {
   "display_name": "Python 3",
   "language": "python",
   "name": "python3"
  },
  "language_info": {
   "codemirror_mode": {
    "name": "ipython",
    "version": 2
   },
   "file_extension": ".py",
   "mimetype": "text/x-python",
   "name": "python",
   "nbconvert_exporter": "python",
   "pygments_lexer": "ipython2",
   "version": "2.7.6"
  }
 },
 "nbformat": 4,
 "nbformat_minor": 5
}
