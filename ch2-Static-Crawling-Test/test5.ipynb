{
 "cells": [
  {
   "cell_type": "code",
   "execution_count": null,
   "id": "initial_id",
   "metadata": {
    "collapsed": true
   },
   "outputs": [],
   "source": [
    "import csv\n",
    "import time\n",
    "import datetime\n",
    "import bs4\n",
    "import urllib.request\n",
    "\n",
    "with open(r'busan_weather_20250220.csv', 'w', newline='', encoding=\"UTF-8\") as csvFp:\n",
    "    csvWriter = csv.writer(csvFp)\n",
    "    csvWriter.writerow(['연월일','시분초','온도','습도','강수량','풍향'])\n",
    "\n",
    "nateUrl = \"https://news.nate.com/weather?areaCode=11H20201\""
   ]
  }
 ],
 "metadata": {
  "kernelspec": {
   "display_name": "Python 3",
   "language": "python",
   "name": "python3"
  },
  "language_info": {
   "codemirror_mode": {
    "name": "ipython",
    "version": 2
   },
   "file_extension": ".py",
   "mimetype": "text/x-python",
   "name": "python",
   "nbconvert_exporter": "python",
   "pygments_lexer": "ipython2",
   "version": "2.7.6"
  }
 },
 "nbformat": 4,
 "nbformat_minor": 5
}
