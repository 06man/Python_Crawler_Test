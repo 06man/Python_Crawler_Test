{
 "cells": [
  {
   "cell_type": "code",
   "id": "initial_id",
   "metadata": {
    "collapsed": true,
    "ExecuteTime": {
     "end_time": "2025-02-20T01:15:31.214660Z",
     "start_time": "2025-02-20T01:15:30.938021Z"
    }
   },
   "source": [
    "import bs4\n",
    "import urllib.request\n",
    "\n",
    "nateUrl =\"https://www.nate.com\"\n",
    "# 웹 서버 , 접근해서, 문서를 가져오고\n",
    "htmlObject = urllib.request.urlopen(nateUrl)\n",
    "# 가져온 객체를 읽고\n",
    "webPage = htmlObject.read()\n",
    "# 읽은 문서를 보기좋게, 변환하기. bsObject에 가져올 내용이 메모리상에 있다.\n",
    "bsObject = bs4.BeautifulSoup(webPage, \"html.parser\")\n",
    "\n",
    "#div -> id 속성 : NateBi,\n",
    "tag = bsObject.find('div',{'id':'NateBi'})\n",
    "print(tag)\n"
   ],
   "outputs": [
    {
     "name": "stdout",
     "output_type": "stream",
     "text": [
      "<div class=\"area_bi\" id=\"NateBi\" role=\"banner\">\n",
      "<h1 class=\"bi\" title=\"네이트\"><a href=\"//www.nate.com/?f=bi\" onmousedown=\"nc('NBI01');\">네이트</a></h1>\n",
      "</div>\n"
     ]
    }
   ],
   "execution_count": 1
  },
  {
   "metadata": {
    "ExecuteTime": {
     "end_time": "2025-02-20T01:16:34.675313Z",
     "start_time": "2025-02-20T01:16:34.663311Z"
    }
   },
   "cell_type": "code",
   "source": [
    "a_tag = tag.find('a')\n",
    "print(a_tag)"
   ],
   "id": "242414e1564211cd",
   "outputs": [
    {
     "name": "stdout",
     "output_type": "stream",
     "text": [
      "<a href=\"//www.nate.com/?f=bi\" onmousedown=\"nc('NBI01');\">네이트</a>\n"
     ]
    }
   ],
   "execution_count": 2
  },
  {
   "metadata": {
    "ExecuteTime": {
     "end_time": "2025-02-20T01:17:18.106594Z",
     "start_time": "2025-02-20T01:17:18.092572Z"
    }
   },
   "cell_type": "code",
   "source": [
    "a_tag_href = a_tag['href']\n",
    "print(a_tag_href)"
   ],
   "id": "7929d2dcf6767da7",
   "outputs": [
    {
     "name": "stdout",
     "output_type": "stream",
     "text": [
      "//www.nate.com/?f=bi\n"
     ]
    }
   ],
   "execution_count": 3
  },
  {
   "metadata": {
    "ExecuteTime": {
     "end_time": "2025-02-20T01:17:41.444647Z",
     "start_time": "2025-02-20T01:17:41.432647Z"
    }
   },
   "cell_type": "code",
   "source": [
    "a_tag_text = a_tag.text\n",
    "print(a_tag_text)"
   ],
   "id": "8e47e13ed300aab4",
   "outputs": [
    {
     "name": "stdout",
     "output_type": "stream",
     "text": [
      "네이트\n"
     ]
    }
   ],
   "execution_count": 4
  },
  {
   "metadata": {},
   "cell_type": "code",
   "outputs": [],
   "execution_count": null,
   "source": "",
   "id": "bdae6046e22cfe4e"
  }
 ],
 "metadata": {
  "kernelspec": {
   "display_name": "Python 3",
   "language": "python",
   "name": "python3"
  },
  "language_info": {
   "codemirror_mode": {
    "name": "ipython",
    "version": 2
   },
   "file_extension": ".py",
   "mimetype": "text/x-python",
   "name": "python",
   "nbconvert_exporter": "python",
   "pygments_lexer": "ipython2",
   "version": "2.7.6"
  }
 },
 "nbformat": 4,
 "nbformat_minor": 5
}
