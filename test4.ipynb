{
 "cells": [
  {
   "cell_type": "code",
   "id": "initial_id",
   "metadata": {
    "collapsed": true,
    "ExecuteTime": {
     "end_time": "2025-02-20T01:43:08.647078Z",
     "start_time": "2025-02-20T01:42:58.523982Z"
    }
   },
   "source": [
    "import csv\n",
    "import time\n",
    "import datetime\n",
    "\n",
    "csvName = './datetime_20250220.csv'\n",
    "with open(r'./datetime_20250220.csv', 'w', newline='',encoding=\"UTF-8\") as csvFp:\n",
    "    csvWriter = csv.writer(csvFp)\n",
    "    csvWriter.writerow(['연월일','시분초'])\n",
    "count = 10\n",
    "while count > 0:\n",
    "    count -= 1\n",
    "    now = datetime.datetime.now()\n",
    "    yymmdd = now.strftime(\"%Y-%m-%d\")\n",
    "    hhmmss = now.strftime(\"%H:%M:%S\")\n",
    "    time_list = [yymmdd, hhmmss]\n",
    "    print(time_list)\n",
    "\n",
    "    #csv 쓰기 작업.\n",
    "    with open(csvName, 'a', newline='',encoding=\"UTF-8\") as csvFp:\n",
    "        csvWriter = csv.writer(csvFp)\n",
    "        csvWriter.writerow(time_list)\n",
    "    time.sleep(1)"
   ],
   "outputs": [
    {
     "name": "stdout",
     "output_type": "stream",
     "text": [
      "['2025-02-20', '10:42:58']\n",
      "['2025-02-20', '10:42:59']\n",
      "['2025-02-20', '10:43:00']\n",
      "['2025-02-20', '10:43:01']\n",
      "['2025-02-20', '10:43:02']\n",
      "['2025-02-20', '10:43:03']\n",
      "['2025-02-20', '10:43:04']\n",
      "['2025-02-20', '10:43:05']\n",
      "['2025-02-20', '10:43:06']\n",
      "['2025-02-20', '10:43:07']\n"
     ]
    }
   ],
   "execution_count": 1
  },
  {
   "metadata": {},
   "cell_type": "code",
   "outputs": [],
   "execution_count": null,
   "source": "",
   "id": "e86d3853bd95b134"
  }
 ],
 "metadata": {
  "kernelspec": {
   "display_name": "Python 3",
   "language": "python",
   "name": "python3"
  },
  "language_info": {
   "codemirror_mode": {
    "name": "ipython",
    "version": 2
   },
   "file_extension": ".py",
   "mimetype": "text/x-python",
   "name": "python",
   "nbconvert_exporter": "python",
   "pygments_lexer": "ipython2",
   "version": "2.7.6"
  }
 },
 "nbformat": 4,
 "nbformat_minor": 5
}
